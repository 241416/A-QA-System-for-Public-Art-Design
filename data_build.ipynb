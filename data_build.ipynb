{
 "cells": [
  {
   "cell_type": "code",
   "execution_count": 1,
   "metadata": {},
   "outputs": [
    {
     "name": "stderr",
     "output_type": "stream",
     "text": [
      "/Users/taijieshengwu/opt/anaconda3/lib/python3.9/site-packages/pandas/core/computation/expressions.py:21: UserWarning: Pandas requires version '2.8.4' or newer of 'numexpr' (version '2.8.3' currently installed).\n",
      "  from pandas.core.computation.check import NUMEXPR_INSTALLED\n",
      "/Users/taijieshengwu/opt/anaconda3/lib/python3.9/site-packages/pandas/core/arrays/masked.py:60: UserWarning: Pandas requires version '1.3.6' or newer of 'bottleneck' (version '1.3.5' currently installed).\n",
      "  from pandas.core import (\n",
      "/Users/taijieshengwu/opt/anaconda3/lib/python3.9/site-packages/IPython/core/interactiveshell.py:3457: LangChainDeprecationWarning: As of langchain-core 0.3.0, LangChain uses pydantic v2 internally. The langchain_core.pydantic_v1 module was a compatibility shim for pydantic v1, and should no longer be used. Please update the code to import from Pydantic directly.\n",
      "\n",
      "For example, replace imports like: `from langchain_core.pydantic_v1 import BaseModel`\n",
      "with: `from pydantic import BaseModel`\n",
      "or the v1 compatibility namespace if you are working in a code base that has not been fully upgraded to pydantic 2 yet. \tfrom pydantic.v1 import BaseModel\n",
      "\n",
      "  exec(code_obj, self.user_global_ns, self.user_ns)\n"
     ]
    }
   ],
   "source": [
    "import os\n",
    "import pandas as pd\n",
    "import pdfplumber\n",
    "import requests\n",
    "import json\n",
    "import re\n",
    "import warnings\n",
    "warnings.filterwarnings(\"ignore\")\n",
    "from openai import OpenAI\n",
    "from typing import List  \n",
    "  \n",
    "from tqdm import tqdm  \n",
    "from langchain_core.prompts import ChatPromptTemplate  \n",
    "from langchain_core.pydantic_v1 import BaseModel, Field  \n",
    "from langchain_core.output_parsers import JsonOutputParser  \n",
    "from langchain_openai import AzureChatOpenAI  \n",
    "from langchain_core.runnables import RunnableLambda\n",
    "from langchain_community.document_loaders import UnstructuredFileLoader  \n",
    "from langchain_text_splitters import RecursiveCharacterTextSplitter"
   ]
  },
  {
   "cell_type": "code",
   "execution_count": 27,
   "id": "abd7faf2",
   "metadata": {},
   "outputs": [],
   "source": [
    "# apikey = \"sk-mVpKLjvvbUO1CerUNSIRkBKtYaRYdF9anaotBTc164Y6tS9x\"\n",
    "apikey = \"sk-slececspLTc947d0am0X3G0y5mwo7qVAofFGTsq3citFJeya\"\n",
    "data_dir = '/Users/taijieshengwu/Documents/相关文本资料汇总'"
   ]
  },
  {
   "cell_type": "code",
   "execution_count": 28,
   "id": "d9d3da49",
   "metadata": {},
   "outputs": [
    {
     "ename": "FileNotFoundError",
     "evalue": "[Errno 2] No such file or directory: '/Users/taijieshengwu/Documents/arts-RAG/data.csv'",
     "output_type": "error",
     "traceback": [
      "\u001b[0;31m---------------------------------------------------------------------------\u001b[0m",
      "\u001b[0;31mFileNotFoundError\u001b[0m                         Traceback (most recent call last)",
      "\u001b[0;32m/var/folders/pk/cx38wkw96h94vrlsy8lp1bqh0000gp/T/ipykernel_59556/201410603.py\u001b[0m in \u001b[0;36m<module>\u001b[0;34m\u001b[0m\n\u001b[1;32m     28\u001b[0m \u001b[0;31m# df = pd.DataFrame(pdf_data)\u001b[0m\u001b[0;34m\u001b[0m\u001b[0;34m\u001b[0m\u001b[0m\n\u001b[1;32m     29\u001b[0m \u001b[0;31m# df.to_csv(\"/Users/taijieshengwu/Documents/arts-RAG/data.csv\", index=False, encoding=\"utf-8-sig\")\u001b[0m\u001b[0;34m\u001b[0m\u001b[0;34m\u001b[0m\u001b[0m\n\u001b[0;32m---> 30\u001b[0;31m \u001b[0mdf\u001b[0m \u001b[0;34m=\u001b[0m \u001b[0mpd\u001b[0m\u001b[0;34m.\u001b[0m\u001b[0mread_csv\u001b[0m\u001b[0;34m(\u001b[0m\u001b[0;34m\"/Users/taijieshengwu/Documents/arts-RAG/data.csv\"\u001b[0m\u001b[0;34m,\u001b[0m \u001b[0mencoding\u001b[0m\u001b[0;34m=\u001b[0m\u001b[0;34m\"utf-8-sig\"\u001b[0m\u001b[0;34m)\u001b[0m\u001b[0;34m\u001b[0m\u001b[0;34m\u001b[0m\u001b[0m\n\u001b[0m",
      "\u001b[0;32m~/opt/anaconda3/lib/python3.9/site-packages/pandas/io/parsers/readers.py\u001b[0m in \u001b[0;36mread_csv\u001b[0;34m(filepath_or_buffer, sep, delimiter, header, names, index_col, usecols, dtype, engine, converters, true_values, false_values, skipinitialspace, skiprows, skipfooter, nrows, na_values, keep_default_na, na_filter, verbose, skip_blank_lines, parse_dates, infer_datetime_format, keep_date_col, date_parser, date_format, dayfirst, cache_dates, iterator, chunksize, compression, thousands, decimal, lineterminator, quotechar, quoting, doublequote, escapechar, comment, encoding, encoding_errors, dialect, on_bad_lines, delim_whitespace, low_memory, memory_map, float_precision, storage_options, dtype_backend)\u001b[0m\n\u001b[1;32m   1024\u001b[0m     \u001b[0mkwds\u001b[0m\u001b[0;34m.\u001b[0m\u001b[0mupdate\u001b[0m\u001b[0;34m(\u001b[0m\u001b[0mkwds_defaults\u001b[0m\u001b[0;34m)\u001b[0m\u001b[0;34m\u001b[0m\u001b[0;34m\u001b[0m\u001b[0m\n\u001b[1;32m   1025\u001b[0m \u001b[0;34m\u001b[0m\u001b[0m\n\u001b[0;32m-> 1026\u001b[0;31m     \u001b[0;32mreturn\u001b[0m \u001b[0m_read\u001b[0m\u001b[0;34m(\u001b[0m\u001b[0mfilepath_or_buffer\u001b[0m\u001b[0;34m,\u001b[0m \u001b[0mkwds\u001b[0m\u001b[0;34m)\u001b[0m\u001b[0;34m\u001b[0m\u001b[0;34m\u001b[0m\u001b[0m\n\u001b[0m\u001b[1;32m   1027\u001b[0m \u001b[0;34m\u001b[0m\u001b[0m\n\u001b[1;32m   1028\u001b[0m \u001b[0;34m\u001b[0m\u001b[0m\n",
      "\u001b[0;32m~/opt/anaconda3/lib/python3.9/site-packages/pandas/io/parsers/readers.py\u001b[0m in \u001b[0;36m_read\u001b[0;34m(filepath_or_buffer, kwds)\u001b[0m\n\u001b[1;32m    618\u001b[0m \u001b[0;34m\u001b[0m\u001b[0m\n\u001b[1;32m    619\u001b[0m     \u001b[0;31m# Create the parser.\u001b[0m\u001b[0;34m\u001b[0m\u001b[0;34m\u001b[0m\u001b[0m\n\u001b[0;32m--> 620\u001b[0;31m     \u001b[0mparser\u001b[0m \u001b[0;34m=\u001b[0m \u001b[0mTextFileReader\u001b[0m\u001b[0;34m(\u001b[0m\u001b[0mfilepath_or_buffer\u001b[0m\u001b[0;34m,\u001b[0m \u001b[0;34m**\u001b[0m\u001b[0mkwds\u001b[0m\u001b[0;34m)\u001b[0m\u001b[0;34m\u001b[0m\u001b[0;34m\u001b[0m\u001b[0m\n\u001b[0m\u001b[1;32m    621\u001b[0m \u001b[0;34m\u001b[0m\u001b[0m\n\u001b[1;32m    622\u001b[0m     \u001b[0;32mif\u001b[0m \u001b[0mchunksize\u001b[0m \u001b[0;32mor\u001b[0m \u001b[0miterator\u001b[0m\u001b[0;34m:\u001b[0m\u001b[0;34m\u001b[0m\u001b[0;34m\u001b[0m\u001b[0m\n",
      "\u001b[0;32m~/opt/anaconda3/lib/python3.9/site-packages/pandas/io/parsers/readers.py\u001b[0m in \u001b[0;36m__init__\u001b[0;34m(self, f, engine, **kwds)\u001b[0m\n\u001b[1;32m   1618\u001b[0m \u001b[0;34m\u001b[0m\u001b[0m\n\u001b[1;32m   1619\u001b[0m         \u001b[0mself\u001b[0m\u001b[0;34m.\u001b[0m\u001b[0mhandles\u001b[0m\u001b[0;34m:\u001b[0m \u001b[0mIOHandles\u001b[0m \u001b[0;34m|\u001b[0m \u001b[0;32mNone\u001b[0m \u001b[0;34m=\u001b[0m \u001b[0;32mNone\u001b[0m\u001b[0;34m\u001b[0m\u001b[0;34m\u001b[0m\u001b[0m\n\u001b[0;32m-> 1620\u001b[0;31m         \u001b[0mself\u001b[0m\u001b[0;34m.\u001b[0m\u001b[0m_engine\u001b[0m \u001b[0;34m=\u001b[0m \u001b[0mself\u001b[0m\u001b[0;34m.\u001b[0m\u001b[0m_make_engine\u001b[0m\u001b[0;34m(\u001b[0m\u001b[0mf\u001b[0m\u001b[0;34m,\u001b[0m \u001b[0mself\u001b[0m\u001b[0;34m.\u001b[0m\u001b[0mengine\u001b[0m\u001b[0;34m)\u001b[0m\u001b[0;34m\u001b[0m\u001b[0;34m\u001b[0m\u001b[0m\n\u001b[0m\u001b[1;32m   1621\u001b[0m \u001b[0;34m\u001b[0m\u001b[0m\n\u001b[1;32m   1622\u001b[0m     \u001b[0;32mdef\u001b[0m \u001b[0mclose\u001b[0m\u001b[0;34m(\u001b[0m\u001b[0mself\u001b[0m\u001b[0;34m)\u001b[0m \u001b[0;34m->\u001b[0m \u001b[0;32mNone\u001b[0m\u001b[0;34m:\u001b[0m\u001b[0;34m\u001b[0m\u001b[0;34m\u001b[0m\u001b[0m\n",
      "\u001b[0;32m~/opt/anaconda3/lib/python3.9/site-packages/pandas/io/parsers/readers.py\u001b[0m in \u001b[0;36m_make_engine\u001b[0;34m(self, f, engine)\u001b[0m\n\u001b[1;32m   1878\u001b[0m                 \u001b[0;32mif\u001b[0m \u001b[0;34m\"b\"\u001b[0m \u001b[0;32mnot\u001b[0m \u001b[0;32min\u001b[0m \u001b[0mmode\u001b[0m\u001b[0;34m:\u001b[0m\u001b[0;34m\u001b[0m\u001b[0;34m\u001b[0m\u001b[0m\n\u001b[1;32m   1879\u001b[0m                     \u001b[0mmode\u001b[0m \u001b[0;34m+=\u001b[0m \u001b[0;34m\"b\"\u001b[0m\u001b[0;34m\u001b[0m\u001b[0;34m\u001b[0m\u001b[0m\n\u001b[0;32m-> 1880\u001b[0;31m             self.handles = get_handle(\n\u001b[0m\u001b[1;32m   1881\u001b[0m                 \u001b[0mf\u001b[0m\u001b[0;34m,\u001b[0m\u001b[0;34m\u001b[0m\u001b[0;34m\u001b[0m\u001b[0m\n\u001b[1;32m   1882\u001b[0m                 \u001b[0mmode\u001b[0m\u001b[0;34m,\u001b[0m\u001b[0;34m\u001b[0m\u001b[0;34m\u001b[0m\u001b[0m\n",
      "\u001b[0;32m~/opt/anaconda3/lib/python3.9/site-packages/pandas/io/common.py\u001b[0m in \u001b[0;36mget_handle\u001b[0;34m(path_or_buf, mode, encoding, compression, memory_map, is_text, errors, storage_options)\u001b[0m\n\u001b[1;32m    871\u001b[0m         \u001b[0;32mif\u001b[0m \u001b[0mioargs\u001b[0m\u001b[0;34m.\u001b[0m\u001b[0mencoding\u001b[0m \u001b[0;32mand\u001b[0m \u001b[0;34m\"b\"\u001b[0m \u001b[0;32mnot\u001b[0m \u001b[0;32min\u001b[0m \u001b[0mioargs\u001b[0m\u001b[0;34m.\u001b[0m\u001b[0mmode\u001b[0m\u001b[0;34m:\u001b[0m\u001b[0;34m\u001b[0m\u001b[0;34m\u001b[0m\u001b[0m\n\u001b[1;32m    872\u001b[0m             \u001b[0;31m# Encoding\u001b[0m\u001b[0;34m\u001b[0m\u001b[0;34m\u001b[0m\u001b[0m\n\u001b[0;32m--> 873\u001b[0;31m             handle = open(\n\u001b[0m\u001b[1;32m    874\u001b[0m                 \u001b[0mhandle\u001b[0m\u001b[0;34m,\u001b[0m\u001b[0;34m\u001b[0m\u001b[0;34m\u001b[0m\u001b[0m\n\u001b[1;32m    875\u001b[0m                 \u001b[0mioargs\u001b[0m\u001b[0;34m.\u001b[0m\u001b[0mmode\u001b[0m\u001b[0;34m,\u001b[0m\u001b[0;34m\u001b[0m\u001b[0;34m\u001b[0m\u001b[0m\n",
      "\u001b[0;31mFileNotFoundError\u001b[0m: [Errno 2] No such file or directory: '/Users/taijieshengwu/Documents/arts-RAG/data.csv'"
     ]
    }
   ],
   "source": [
    "# # 初始化一个空的 DataFrame\n",
    "# pdf_data = []\n",
    "\n",
    "# # 遍历目录下所有 PDF 文件\n",
    "# for filename in os.listdir(data_dir):\n",
    "#     if filename.endswith(\".pdf\"):\n",
    "#         file_path = os.path.join(data_dir, filename)\n",
    "#         try:\n",
    "#             with pdfplumber.open(file_path) as pdf:\n",
    "#                 text = ''\n",
    "#                 filename = filename[:-4]\n",
    "#                 for page in pdf.pages:\n",
    "#                     text += page.extract_text() or ''\n",
    "#                 if \"_\" in filename:\n",
    "#                     title, author = filename.rsplit(\"_\",1)\n",
    "#                 else:\n",
    "#                     title, author = filename, \"\"\n",
    "\n",
    "#                 pdf_data.append({\n",
    "#                     \"title\": title,\n",
    "#                     \"author\": author,\n",
    "#                     \"content\": text\n",
    "#                 })\n",
    "#         except Exception as e:\n",
    "#             print(f\"读取失败：{filename}, 错误：{e}\")\n",
    "\n",
    "# # 转换为 DataFrame\n",
    "# df = pd.DataFrame(pdf_data)\n",
    "# df.to_csv(\"/Users/taijieshengwu/Documents/arts-RAG/data.csv\", index=False, encoding=\"utf-8-sig\")\n",
    "df = pd.read_csv(\"/Users/taijieshengwu/Documents/arts-RAG/data.csv\", encoding=\"utf-8-sig\")"
   ]
  },
  {
   "cell_type": "code",
   "execution_count": 29,
   "id": "26bf7bc1",
   "metadata": {},
   "outputs": [
    {
     "name": "stdout",
     "output_type": "stream",
     "text": [
      "['艺术教育115艺术管理共同体美学意识的构建———以剧院公共艺术教育策划与管理为例邓玉琪王小龙摘要艺术管理美学作为艺术美学与管理美学的交叉研究，是基于当代艺术主体关系转移、艺术过程要素转变、艺术内容多元转化的前提，在艺术管理视域下提出的美学观念，亦是对艺术美学传统观念的创造性转化与创新性发展。由于艺术管理介入艺术活动，艺术的美学意识发生了多维度的重构，如在主体意识、过程意识、内容意识等层面构建共同体意识。这种共同体意识的构建在剧院管理，尤其在剧院公共艺术教育策划与管理中十分必要。关键词艺术管理;艺术管理美学;剧院公共艺术教育;共同体意识剧院公共艺术教育策划与管理属于剧院管理的和内容，以及城市居民在剧院空间中彼此交流、对研究范畴，剧院管理是艺术管理的分支。从艺术门话的中介;剧院服务作为联结剧院与人、与社会的类上细分，艺术管理可分为音乐管理、戏剧管理、纽带，其公共服务是面向社会公众，是剧院艺术教舞蹈管理、电影管理等;从艺术机构上细分，艺术育活动区别于学校艺术教育的特色所在，并成为剧管理可分为演出现场管理、剧院管理、电影院管理院面向更多社会公众的渠道;剧院文化作为联结剧等。随着艺术管理学科的建设与完善，艺术管理的院与艺术、与人、与社会、与城市的纽带，以教育分类方式会更加丰富。共同体意识在不同领域具有为剧院文化输出的方式，让更多城市居民接受剧院不同的性质，在政治、经济领域属于哲学意识;在文化、体验剧院艺术，以此丰富精神生活。剧院空民族、国家层面属于文化意识;在艺术领域属于美间、剧院艺术、剧院服务、剧院文化是剧院公共艺术教育策划与管理的四大要素，都与人有关，人即学意识。艺术管理美学研究的是艺术管理者以主体主体，包括城市居民即剧院公共艺术教育的受众、身份介入艺术创作者、表演者、接受者的固有体策划与管理者、教育者，同时，剧院空间设计决定系，打破三角形结构，构建菱形结构以后，艺术的着公共艺术教育的实施环境(剧院)，剧院艺术本主体与客体构成多重审美关系、形式与内容构成多体决定着剧院公共教育的实施媒介(艺术)，剧院样审美关系、过程与结果构成多元审美关系，以及服务导向决定着剧院艺术教育的实施特性(公菱形结构中的审美要素等内容。共)，剧院文化理念决定着剧院公共艺术的实施方式(教育)。一、“主体”共同体意识的构建在剧院公共艺术教育策划与管理中，主体因处剧院作为一座城市的文化名片，肩负城市文化在剧院环境中而产生审美感应，因接触艺术媒介而服务的重要职责，而职责的履行需要发挥自身所处产生审美感觉，因艺术教育的公共性而产生审美感的空间优势，共享自身拥有的艺术资源，打造自身受，因教育的交互方式而产生审美感知，并在审美别致的服务特色，建立自身专属的文化品牌，剧院感应、审美感觉、审美感受、审美感知的循序渐进公共艺术教育即是剧院履行文化服务职责的主要途过程中自主形成主体间的共同体意识，且不仅是受径之一。剧院在开展公共艺术教育活动过程中，城众之间(消费共同体)、抑或策划与管理者之间市居民来到剧院这个特定的空间，剧院空间作为联(组织共同体)、抑或教育者之间(供给共同体)结艺术与人、与城市的纽带，成为城市居民与公共形成共同体意识，而是以上三方主体的共同体意艺术教育活动的中介;剧院艺术作为联结人与人、识。①这种共同体意识蕴含在主体审美感应、审美与社会的纽带，成为剧院公共教育活动独有的资源感觉、审美感受、审美感知每一个环节之中，源于116四川戏剧SICHUANDＲAMA剧院公共艺术教育对应的剧院环境、艺术媒介、公化自信的重要阵地，而推进文化自信则需贯彻以共服务、教育交互等四大要素中。“文”化人、以“文”培元、以“文”育人的教第一，剧院环境促使各主体处于审美感应环节育理念，以推进教育自信为前提和目标，教育是孕的共思状态。城市居民、策划与管理者、教育者三育文化自信的源头，同时文化自信反哺教育成果。方主体以剧院为聚集地，不同的主体身份会带着不将视角聚焦到以表演艺术为主业的剧院，则需贯彻同的思绪、思维、思想走进相同的剧院空间，共同以“艺”化人、以“艺”培元、以“艺”育人的思考公共艺术教育，共享公共艺术教育思维。舞台教育理念。艺术教育是培养、丰富人的文化底蕴的空间、剧场空间和城市空间是三个互相关联的剧院有效途径，剧院公共艺术教育面向的即是城市居公共艺术教育物理空间(或称现实空间)，②对应三民，是依托剧院艺术资源，实施公共教育，逐步完种空间的主体在同一个剧院空间里处于共思的状态。成提升城市居民的审美能力、艺术素养、文化水平第二，艺术媒介促使各主体处于审美感觉环节的三步走，因此，剧院公共艺术教育也成为剧院推的共情状态。城市居民、策划与管理者、教育者三进城市文化自信的重要途径之一。剧院艺术教育项方主体以艺术为媒介，形成情感共建、共通、共融目，追求艺术教学的互动性、参与性、体验性、趣的状态。不同的主体身份会带着不同的情绪、情味性等，注重感知、体会、评价，是对表演艺术的感、情怀走进相同的艺术世', '理者、教育者三进城市文化自信的重要途径之一。剧院艺术教育项方主体以艺术为媒介，形成情感共建、共通、共融目，追求艺术教学的互动性、参与性、体验性、趣的状态。不同的主体身份会带着不同的情绪、情味性等，注重感知、体会、评价，是对表演艺术的感、情怀走进相同的艺术世界，艺术内在的情感性全方位审美体验。③和外在的表现性决定着他们会共同建立情感连接，剧院公共艺术教育项目将剧院传统项目的策划连通彼此的情感世界，融入共同的情感意蕴。在剧理念从分别以表演艺术创作、演出、接受为核心转院公共艺术教育中，城市居民体验、表达情感，策变到以表演艺术教育为核心。剧院项目策划理念无划与管理者挖掘、创造情感，教育者引导、发现情论以创作还是演出为核心，都是剧院自创自演，前感，这种情感对象即三方主体共情的对象。者更强调创作团队、制作规模、顶层立意、国家大第三，公共服务促使各主体处于审美感受环节奖等，但只公开演出过几次甚至一次，后者更强调的共鸣状态。城市居民、策划与管理者、教育者三演出团队、巡演次数、媒体宣传等，但不注重市场方主体以公共服务为准则，分别以参与身份、组织反应和经济效益，两者以上几点有共通之处。剧院身份、受邀身份进入到剧院面向社会不同圈层、不项目策划理念以接受为核心是前两者的进阶融合，同文化、不同群体等受众的公共艺术教育之中，策在相对弱化以上强调的几点基础上，开始注重观众划与管理者、教育者与不同受众之间形成思想感情调研、拓展、接受度，以及营利收益等内容，创作的共鸣状态。和演出始终围绕观众接受服务。剧院这种从创作向第四，教育交互促使各主体处于审美感知环节演出再向以接受为核心的发展过程，所体现的美学的共振状态。城市居民、策划与管理者、教育者三观念演变即是从作者美学向接受美学的进化，而接方主体以教育为交互方式，打破建立教师与学生关受美学观念的进一步进化便是共同体美学。④共同系的传统教育观念，在剧院公共艺术教育中没有传体美学观念在剧院管理中的映射即是以教育为核心统的教师身份和学生身份，而是建立三方主体的平的项目策划理念，在策划公共艺术教育项目的过程等对话关系，形成交流共振状态，促使教育方式由中，受众的接受过程转变为教育过程，并在创作、单向输出变成多向交流。演出的基础上延伸出传播、批评两个环节，四个环综上所述，剧院公共艺术教育中各主体之间首节共同服务于教育环节，形成创作、演出、教育、先因处在同一空间(剧场)，进入审美感应环节的传播、批评五位一体的构架，即是体现五个环节的共思状态，随后达到审美感觉环节中以同一媒介共同体意识，这种共同体意识的特征在于教育是主(艺术)连接的共情状态，之后进入审美感受环节动接受，是具有主动性的互动、参与、体验，相比形成面向同一准则(公共)的共鸣，最后进入感被动地接受，互动、参与、体验是提高观众理解能知环节，完成建立同一交互关系(教育)的共振，力和感受能力的有效手段。⑤从接受向教育转变，即共思、共情、共鸣、共振，最终构建关于剧院管抑或说从被动接受向主动接受转变，体现在以下四理和艺术管理主体间的审美意识，即“主体”共个方面。同体意识。第一，艺术创作的审美观念从审美表达向审美体验转变。当剧院艺术创作的目标指向艺术教育，二、“过程”共同体意识的构建抑或说艺术创作开始为艺术教育服务时，艺术创作剧院作为一座城市的文化地标，是推进城市文便不再以创作者的审美表达为主，而是以教育者和艺术教育117受教育者共同的审美体验为主。共同的审美体验意地域文旅产业发展不平衡，剧院的运营模式也存在味着艺术创作要强调三个要素，一是突出共同的在差异，大体上可分为四种不同且共存的版本:1.0场性特征，即教育者与受教育者需要在同一场域版本为以“出租”为主的剧院，即通过被动出租下;二是建构共同的沉浸式场景，即教育者与受教场地，等演出上门的二房东，主要依托别人的演出育者需要进入同一个沉浸式场景中;三是确立共同项目，靠租借场地生存;2.0版本为以“营销”为的审美接受标准，即教育者与受教育需要具有相近主的剧院，即通过主动出击面向海内外挑选剧目，的审美能力。开展多样的营销活动，尝试做演出季，挑选别人的第二，艺术演出的审美观念从审美呈现向审美演出项目，建立主动性，靠合作项目生存;3.0版互动转变。当剧院艺术演出的目标指向艺术教育，本为以“生产”为主的剧院，即通过场团融合或抑或说艺术演出开始为艺术教育服务时，艺术演出厅团合一路线，组织驻场演出或做生产型剧院，主便不再以表演者的审美呈现为主，而是以教育者和要孵化自己的艺术项目，靠制作项目生存;4.0版受教育者之间的审美互动为主。两者之间的审美互本为以“文旅”为主的剧院，即通过将剧院打造动意味着艺术演出要强调两个要素，一是突出艺术成文旅综合体的枢纽，延长演艺价值链，融入自己表演的交互性特征，即教育者与受教育者需要共同的文旅项目，靠产业项目生存。1.0和2.0版本剧完成艺术演出;二是建构开放式的演出空间和脚院对文旅产业发展只有间接作用，且处于边', '味着艺术演出要强调两个要素，一是突出艺术成文旅综合体的枢纽，延长演艺价值链，融入自己表演的交互性特征，即教育者与受教育者需要共同的文旅项目，靠产业项目生存。1.0和2.0版本剧完成艺术演出;二是建构开放式的演出空间和脚院对文旅产业发展只有间接作用，且处于边缘位本，即教育者与受教育者可以全程自主地参与和置，由于是借鸡下蛋，只能选择内容单一的艺术演选择。出项目，区别只在于主动选择或被动选择，较难带第三，艺术传播的审美观念从审美展现向审美入流量，在演艺产业单打独斗，难与文旅产业形成思考转变。当剧院艺术传播的目标指向艺术教育，共生关系。3.0和4.0版本剧院对文旅产业发展具抑或说艺术传播开始为艺术教育服务时，艺术传播有直接作用，且处于枢纽位置，由于是自身掌握资便不再以艺术的审美展现为主，而是以艺术带给受源，可以选择内容多元的艺术创作、演出，乃至是教育者审美思考为主。促使受教育者进行审美思考艺术教育项目，做出自主或合作的项目制作、生意味着艺术传播要强调两个要素，一是重视艺术传产、策划等多元的选择，容易带入流量，在演艺产播的美学形象，即具有美学意蕴的形象能够迅速触业跨界融合，并与文旅产业形成共生关系。发受教育者的审美反应;二是突出艺术传播的人民在剧院与文旅产业的共生关系中，剧院当前正性特征，即受教育者是城市居民、社会公众。面临着一个趋势，未来的剧院将是一个以市场演第四，艺术批评的审美观念从审美发现向审美出、公众教育协调发展为中心的新型文化空间。以导赏转变。当剧院艺术批评的目标指向艺术教育，3.0和4.0版本剧院独有的艺术教育项目即剧院公抑或说艺术批评开始为艺术教育服务时，艺术批评共艺术教育策划与管理为例，可构成微观、中观、便不再以艺术的审美发现为主，而是以对受教育者宏观三个层面上的共同体。的审美导赏为主。完成艺术导赏意味着艺术批评要其一，微观层面上的项目共同体，剧院公共艺强调两个要素，一是提升艺术批评的阐释能力，二是挖掘艺术批评的教育能力，即在不同层面、维度术教育策划与管理促使剧院在多元的项目内容与选赋予艺术多元的教育意义。择中构建共同体意识。公共艺术教育项目面向的受综上所述，剧院公共艺术教育全过程的四个条众是社会公众，是剧院所有项目受众中最广泛的群件，亦是剧院艺术创作、艺术演出、艺术传播、艺体，通过将市场演出项目内容与公共艺术教育项目术批评四个阶段在审美观念上的转变，完成这种转内容进行有机嫁接，赋予教育内涵于市场演出项变即是在剧院公共艺术教育中构建“过程”共同目，创造观演关系于公共艺术教育项目，两者通过体意识，形成以剧院公共艺术教育为核心的五位一彼此项目予以完成，进而完成受众在公共艺术教育体的构架。项目与市场演出项目之间相互迁移，帮助受众在公共艺术教育项目中达到审美素养提升与审美能力展三、“内容”共同体意识的构建示的平衡，以及在市场演出项目中达到审美想象、剧院作为一座城市的文化品牌，是发展城市文判断、鉴赏、认知、体验五位一体的平衡。所谓剧旅产业的宣传窗口，而宣传效果取决于剧院所处文院以市场演出、公众教育协调发展为中心即是剧院旅产业中的位置，抑或说取决于剧院的核心项目对在市场演出与公众教育之间形成共同体意识。文旅产业发展起到直接或间接的作用。由于全国各其二，中观层面上的剧院共同体，剧院公共艺118四川戏剧SICHUANDＲAMA术教育策划与管理促使剧院之间在演艺产业跨界融结语合中构建共同体意识。任何版本的剧院在所要承担在上述涉及共同体意识的领域里，艺术管理强的公共艺术教育责任面前，面临的都是相同的问题调产教一体化，注重新文科教育理念，以跨学科、和受众，尤其是3.0和4.0版本剧院肩负着将公共跨专业为核心，在本体领域提出了具有创新性的美艺术教育项目从相对发达地区迁移至相对不发达地学研究范式。从艺术管理样本中提取具有代表性的区1.0和2.0版本剧院的责任，进而规划构建德育分支即剧院管理，并选取与艺术教育相关的共性研与美育兼备的剧院公共艺术教育顶层设计，⑥并且究，即剧院公共艺术教育作为具体分析对象，透过要符合在中国各地域实施的标准，如针对各地域剧美学视角，分别从主体、过程、内容三个维度分析院制定公共艺术教育的教师、教材标准。联合1.0剧院公共艺术教育对剧院管理乃至艺术管理构建共和2.0版本剧院合作公共艺术教育项目，相对于输同体意识产生的推动性作用与建设性影响，可谓探出艺术创作、演出项目，更有益于扩大3.0和4.0究共同体意识的有效样本。版本剧院的品牌影响力，树立文化品牌形象。所谓未来的剧院即是不同版本剧院之间，在各地域经济注释:差异化的背景下，形成共同体意识。①陈阳:《剧院公共艺术教育功能的实施路径研究》，北京舞蹈学院2019年硕士学位论文。其三，宏观层面上的文旅共同体，剧院公共艺②⑥张朝霞:《基于新发展理念的剧院公共艺术术教育策划与管理促使剧院在与文旅产业的共生关教育研究》，《艺术管理》(中英文)，2020年第4期。系中构建共同体意识。', '能的实施路径研究》，北京舞蹈学院2019年硕士学位论文。其三，宏观层面上的文旅共同体，剧院公共艺②⑥张朝霞:《基于新发展理念的剧院公共艺术术教育策划与管理促使剧院在与文旅产业的共生关教育研究》，《艺术管理》(中英文)，2020年第4期。系中构建共同体意识。公共艺术教育的目的是通过③⑤⑦刘筠梅:《剧院的公共艺术教育功能及实艺术教育的渗透，优化人的知识结构，提高人们的施途径研究》，《内蒙古师范大学学报》(哲学社会科审美能力和艺术欣赏水平，陶冶人的情操，塑造人学版)，2015年第6期。的心灵，⑦因此，剧院公共艺术教育可以吸引大量④王小龙:《关于艺术管理美学的研究方法———社会公众走进剧院，并感受、感知剧院带来的审美以接受美学为例》，《艺术教育》，2020年第6期。体验。3.0版本剧院作为城市文旅产业的流量入口，要制作、生产、策划向所在城市文旅产业引流邓玉琪，云南艺术学院艺术管理学院青年的公共艺术教育项目，以教育的理念拓展更多的受教师;众，4.0版本剧院作为城市文旅综合体的枢纽，要王小龙，吉林艺术学院艺术管理学院讲师。将综合体的资源、空间、服务作为公共艺术教育项本文为国家艺术基金2022年度艺术人才培训资目的核心要素，以教育的理念留住更多的受众。所助项目“剧院公共艺术教育活动策划与管理创新型谓新型文化空间即是剧院在文旅产业链中形成共同人才培养”(项目编号:2022－A－05－(017)－体意识。410)的结项成果;云南艺术学院校级课题“云南高综上所述，剧院公共艺术教育策划与管理是全校艺术管理人才培养模式的应用研究”(项目编号:国各地域剧院得以共生的重要途径之一，亦是从2021KYJJ16)、吉林省2021年高等教育教改研究课1.0到4.0版本剧院之间在微观项目、中观剧院、题立项支持项目“新文科视域下艺术管理人才培养宏观文旅三个层面构建共同体意识的重要价值体机制研究”(项目编号:吉教高［2021］13号)和现，在微观层面剧院要制作、生产、策划公共艺术吉林省2022年高教学会高教科研(青年专项)一般教育项目与非教育项目的共同内容，在中观层面剧课题“新文科背景下表演艺术管理教育理念研究”院要合作、联名、共建公共艺术教育的共同内容，(项目编号:JGJX2022D258)的阶段性研究成果。在宏观层面剧院要在公共艺术教育项目中运用文旅资源、空间、服务等内容。即是说，在三个层面构实习编辑:白小琼建“内容”共同体意识。责任编辑:任红军']\n",
      "段落数： 4\n"
     ]
    }
   ],
   "source": [
    "def clean_text_compact(text):\n",
    "    # 去除 HTML 标签\n",
    "    text = re.sub(r'<.*?>', '', text)\n",
    "    # 去除所有空白字符（空格、换行、制表符等）\n",
    "    text = re.sub(r'\\s+', '', text)\n",
    "    return text\n",
    "\n",
    "def split_document(text):\n",
    "    try:  \n",
    "        cleaned_text = clean_text_compact(text)\n",
    "        text_splitter = RecursiveCharacterTextSplitter(  \n",
    "            chunk_size=2048,  \n",
    "            chunk_overlap=128  \n",
    "        )  \n",
    "        documents = text_splitter.split_text(cleaned_text)\n",
    "        return documents\n",
    "    except:\n",
    "        return text\n",
    "\n",
    "# 示例调用\n",
    "documents = split_document(df.iloc[0]['content'])\n",
    "print(documents)\n",
    "print(\"段落数：\", len(documents))"
   ]
  },
  {
   "cell_type": "code",
   "execution_count": 30,
   "id": "b49423c9",
   "metadata": {},
   "outputs": [],
   "source": [
    "QA_PAIRS_SYSTEM_PROMPT = \"\"\"  \n",
    "<Context></Context> 你是一个面向公共艺术设计领域的问答系统，标记中是一段关于公共艺术的文献文本，学习和分析它，并整理学习成果：  \n",
    "- 提出问题并给出每个问题的答案。  \n",
    "- 答案需详细完整，尽可能保留原文描述。  \n",
    "- 答案可以包含普通文字、链接、代码、表格、公示、媒体链接等 Markdown 元素。  \n",
    "- 最多提出 30 个问题。  \n",
    "\"\"\"\n",
    "\n",
    "QA_PAIRS_HUMAN_PROMPT = \"\"\"  \n",
    "请按以下格式整理学习成果:  \n",
    "<Context>  \n",
    "文本  \n",
    "</Context>  \n",
    "[  \n",
    "{{\"question\": \"问题1\",\"answer\":\"答案1\"}},  \n",
    "{{\"question\": \"问题2\",\"answer\":\"答案2\"}},  \n",
    "]  \n",
    "------  \n",
    "  \n",
    "我们开始吧!  \n",
    "  \n",
    "<Context>  \n",
    "{text}  \n",
    "<Context/>  \n",
    "\"\"\"\n",
    "\n",
    "prompt = ChatPromptTemplate.from_messages([  \n",
    "\t(\"system\", QA_PAIRS_SYSTEM_PROMPT),  \n",
    "\t(\"human\", QA_PAIRS_HUMAN_PROMPT)  \n",
    "])"
   ]
  },
  {
   "cell_type": "code",
   "execution_count": 31,
   "id": "ea5e267e",
   "metadata": {},
   "outputs": [],
   "source": [
    "client = OpenAI(\n",
    "    # defaults to os.environ.get(\"OPENAI_API_KEY\")\n",
    "    api_key=apikey,\n",
    "    base_url=\"https://api.chatanywhere.tech/v1\"\n",
    ")"
   ]
  },
  {
   "cell_type": "code",
   "execution_count": 32,
   "id": "a70d5e3c",
   "metadata": {},
   "outputs": [],
   "source": [
    "class QaPair(BaseModel):  \n",
    "\tquestion: str = Field(description='问题内容')  \n",
    "\tanswer: str = Field(description='问题的回答')  \n",
    "\t  \n",
    "  \n",
    "class QaPairs(BaseModel):  \n",
    "\tqas: List[QaPair] = Field(description='问答对列表')\n",
    "\n",
    "parser = JsonOutputParser(pydantic_object=QaPairs)\n",
    "\n",
    "\n"
   ]
  },
  {
   "cell_type": "code",
   "execution_count": 33,
   "id": "d6107c5a",
   "metadata": {},
   "outputs": [],
   "source": [
    "\n",
    "\n",
    "def chatanywhere_llm(input: dict):\n",
    "    messages = [\n",
    "        {\"role\": \"system\", \"content\": QA_PAIRS_SYSTEM_PROMPT},\n",
    "        {\"role\": \"user\", \"content\": QA_PAIRS_HUMAN_PROMPT.format(text=input['text'])},\n",
    "    ]\n",
    "    response = client.chat.completions.create(\n",
    "        model=\"gpt-3.5-turbo\",\n",
    "        messages=messages,\n",
    "        temperature=0.7\n",
    "    )\n",
    "    return response.choices[0].message.content\n",
    "\n",
    "# 包成 Runnable\n",
    "llm = RunnableLambda(chatanywhere_llm)\n",
    "parser = JsonOutputParser(pydantic_object=QaPairs)\n",
    "chain = llm | parser"
   ]
  },
  {
   "cell_type": "code",
   "execution_count": 35,
   "id": "3a7b3b4f",
   "metadata": {},
   "outputs": [
    {
     "name": "stderr",
     "output_type": "stream",
     "text": [
      "Processing row 149: 100%|██████████| 2/2 [02:05<00:00, 62.58s/it]\n"
     ]
    },
    {
     "name": "stderr",
     "output_type": "stream",
     "text": [
      "Processing row 75:  67%|██████▋   | 2/3 [00:02<00:01,  1.03s/it]"
     ]
    },
    {
     "name": "stdout",
     "output_type": "stream",
     "text": [
      "Error invoking chain at row 75, doc 0: Error code: 401 - {'error': {'message': 'ApiKey错误(当前请求使用的ApiKey: sk-sle****Jeya)。wrong api key', 'type': 'chatanywhere_error', 'param': None, 'code': '401 UNAUTHORIZED'}}\n"
     ]
    },
    {
     "name": "stderr",
     "output_type": "stream",
     "text": [
      "Processing row 75: 100%|██████████| 3/3 [00:04<00:00,  1.52s/it]"
     ]
    },
    {
     "name": "stdout",
     "output_type": "stream",
     "text": [
      "Error invoking chain at row 75, doc 1: Error code: 429 - {'error': {'message': '异常请求过多，暂时禁止访问。Too many requests for exceptions, temporarily disabling access.', 'type': 'chatanywhere_error', 'param': None, 'code': '429 TOO_MANY_REQUESTS'}}\n",
      "Error invoking chain at row 75, doc 2: Error code: 429 - {'error': {'message': '异常请求过多，暂时禁止访问。Too many requests for exceptions, temporarily disabling access.', 'type': 'chatanywhere_error', 'param': None, 'code': '429 TOO_MANY_REQUESTS'}}\n"
     ]
    },
    {
     "name": "stderr",
     "output_type": "stream",
     "text": [
      "Processing row 75: 100%|██████████| 3/3 [00:07<00:00,  2.41s/it]\n"
     ]
    },
    {
     "name": "stdout",
     "output_type": "stream",
     "text": [
      "Error invoking chain at row 76, doc 0: Error code: 429 - {'error': {'message': '异常请求过多，暂时禁止访问。Too many requests for exceptions, temporarily disabling access.', 'type': 'chatanywhere_error', 'param': None, 'code': '429 TOO_MANY_REQUESTS'}}\n"
     ]
    },
    {
     "ename": "KeyboardInterrupt",
     "evalue": "",
     "output_type": "error",
     "traceback": [
      "\u001b[0;31m---------------------------------------------------------------------------\u001b[0m",
      "\u001b[0;31mHTTPStatusError\u001b[0m                           Traceback (most recent call last)",
      "\u001b[0;32m~/opt/anaconda3/lib/python3.9/site-packages/openai/_base_client.py\u001b[0m in \u001b[0;36m_request\u001b[0;34m(self, cast_to, options, retries_taken, stream, stream_cls)\u001b[0m\n\u001b[1;32m   1036\u001b[0m         \u001b[0;32mtry\u001b[0m\u001b[0;34m:\u001b[0m\u001b[0;34m\u001b[0m\u001b[0;34m\u001b[0m\u001b[0m\n\u001b[0;32m-> 1037\u001b[0;31m             \u001b[0mresponse\u001b[0m\u001b[0;34m.\u001b[0m\u001b[0mraise_for_status\u001b[0m\u001b[0;34m(\u001b[0m\u001b[0;34m)\u001b[0m\u001b[0;34m\u001b[0m\u001b[0;34m\u001b[0m\u001b[0m\n\u001b[0m\u001b[1;32m   1038\u001b[0m         \u001b[0;32mexcept\u001b[0m \u001b[0mhttpx\u001b[0m\u001b[0;34m.\u001b[0m\u001b[0mHTTPStatusError\u001b[0m \u001b[0;32mas\u001b[0m \u001b[0merr\u001b[0m\u001b[0;34m:\u001b[0m  \u001b[0;31m# thrown on 4xx and 5xx status code\u001b[0m\u001b[0;34m\u001b[0m\u001b[0;34m\u001b[0m\u001b[0m\n",
      "\u001b[0;32m~/opt/anaconda3/lib/python3.9/site-packages/httpx/_models.py\u001b[0m in \u001b[0;36mraise_for_status\u001b[0;34m(self)\u001b[0m\n\u001b[1;32m    762\u001b[0m         \u001b[0mmessage\u001b[0m \u001b[0;34m=\u001b[0m \u001b[0mmessage\u001b[0m\u001b[0;34m.\u001b[0m\u001b[0mformat\u001b[0m\u001b[0;34m(\u001b[0m\u001b[0mself\u001b[0m\u001b[0;34m,\u001b[0m \u001b[0merror_type\u001b[0m\u001b[0;34m=\u001b[0m\u001b[0merror_type\u001b[0m\u001b[0;34m)\u001b[0m\u001b[0;34m\u001b[0m\u001b[0;34m\u001b[0m\u001b[0m\n\u001b[0;32m--> 763\u001b[0;31m         \u001b[0;32mraise\u001b[0m \u001b[0mHTTPStatusError\u001b[0m\u001b[0;34m(\u001b[0m\u001b[0mmessage\u001b[0m\u001b[0;34m,\u001b[0m \u001b[0mrequest\u001b[0m\u001b[0;34m=\u001b[0m\u001b[0mrequest\u001b[0m\u001b[0;34m,\u001b[0m \u001b[0mresponse\u001b[0m\u001b[0;34m=\u001b[0m\u001b[0mself\u001b[0m\u001b[0;34m)\u001b[0m\u001b[0;34m\u001b[0m\u001b[0;34m\u001b[0m\u001b[0m\n\u001b[0m\u001b[1;32m    764\u001b[0m \u001b[0;34m\u001b[0m\u001b[0m\n",
      "\u001b[0;31mHTTPStatusError\u001b[0m: Client error '429 Unknown Status' for url 'https://api.chatanywhere.tech/v1/chat/completions'\nFor more information check: https://developer.mozilla.org/en-US/docs/Web/HTTP/Status/429",
      "\nDuring handling of the above exception, another exception occurred:\n",
      "\u001b[0;31mHTTPStatusError\u001b[0m                           Traceback (most recent call last)",
      "\u001b[0;32m~/opt/anaconda3/lib/python3.9/site-packages/openai/_base_client.py\u001b[0m in \u001b[0;36m_request\u001b[0;34m(self, cast_to, options, retries_taken, stream, stream_cls)\u001b[0m\n\u001b[1;32m   1036\u001b[0m         \u001b[0;32mtry\u001b[0m\u001b[0;34m:\u001b[0m\u001b[0;34m\u001b[0m\u001b[0;34m\u001b[0m\u001b[0m\n\u001b[0;32m-> 1037\u001b[0;31m             \u001b[0mresponse\u001b[0m\u001b[0;34m.\u001b[0m\u001b[0mraise_for_status\u001b[0m\u001b[0;34m(\u001b[0m\u001b[0;34m)\u001b[0m\u001b[0;34m\u001b[0m\u001b[0;34m\u001b[0m\u001b[0m\n\u001b[0m\u001b[1;32m   1038\u001b[0m         \u001b[0;32mexcept\u001b[0m \u001b[0mhttpx\u001b[0m\u001b[0;34m.\u001b[0m\u001b[0mHTTPStatusError\u001b[0m \u001b[0;32mas\u001b[0m \u001b[0merr\u001b[0m\u001b[0;34m:\u001b[0m  \u001b[0;31m# thrown on 4xx and 5xx status code\u001b[0m\u001b[0;34m\u001b[0m\u001b[0;34m\u001b[0m\u001b[0m\n",
      "\u001b[0;32m~/opt/anaconda3/lib/python3.9/site-packages/httpx/_models.py\u001b[0m in \u001b[0;36mraise_for_status\u001b[0;34m(self)\u001b[0m\n\u001b[1;32m    762\u001b[0m         \u001b[0mmessage\u001b[0m \u001b[0;34m=\u001b[0m \u001b[0mmessage\u001b[0m\u001b[0;34m.\u001b[0m\u001b[0mformat\u001b[0m\u001b[0;34m(\u001b[0m\u001b[0mself\u001b[0m\u001b[0;34m,\u001b[0m \u001b[0merror_type\u001b[0m\u001b[0;34m=\u001b[0m\u001b[0merror_type\u001b[0m\u001b[0;34m)\u001b[0m\u001b[0;34m\u001b[0m\u001b[0;34m\u001b[0m\u001b[0m\n\u001b[0;32m--> 763\u001b[0;31m         \u001b[0;32mraise\u001b[0m \u001b[0mHTTPStatusError\u001b[0m\u001b[0;34m(\u001b[0m\u001b[0mmessage\u001b[0m\u001b[0;34m,\u001b[0m \u001b[0mrequest\u001b[0m\u001b[0;34m=\u001b[0m\u001b[0mrequest\u001b[0m\u001b[0;34m,\u001b[0m \u001b[0mresponse\u001b[0m\u001b[0;34m=\u001b[0m\u001b[0mself\u001b[0m\u001b[0;34m)\u001b[0m\u001b[0;34m\u001b[0m\u001b[0;34m\u001b[0m\u001b[0m\n\u001b[0m\u001b[1;32m    764\u001b[0m \u001b[0;34m\u001b[0m\u001b[0m\n",
      "\u001b[0;31mHTTPStatusError\u001b[0m: Client error '429 Unknown Status' for url 'https://api.chatanywhere.tech/v1/chat/completions'\nFor more information check: https://developer.mozilla.org/en-US/docs/Web/HTTP/Status/429",
      "\nDuring handling of the above exception, another exception occurred:\n",
      "\u001b[0;31mKeyboardInterrupt\u001b[0m                         Traceback (most recent call last)",
      "\u001b[0;32m/var/folders/pk/cx38wkw96h94vrlsy8lp1bqh0000gp/T/ipykernel_59556/1211887044.py\u001b[0m in \u001b[0;36m<module>\u001b[0;34m\u001b[0m\n\u001b[1;32m     11\u001b[0m         \u001b[0mbar\u001b[0m\u001b[0;34m.\u001b[0m\u001b[0mupdate\u001b[0m\u001b[0;34m(\u001b[0m\u001b[0;36m1\u001b[0m\u001b[0;34m)\u001b[0m\u001b[0;34m\u001b[0m\u001b[0;34m\u001b[0m\u001b[0m\n\u001b[1;32m     12\u001b[0m         \u001b[0;32mtry\u001b[0m\u001b[0;34m:\u001b[0m\u001b[0;34m\u001b[0m\u001b[0;34m\u001b[0m\u001b[0m\n\u001b[0;32m---> 13\u001b[0;31m             \u001b[0mout\u001b[0m \u001b[0;34m=\u001b[0m \u001b[0mchain\u001b[0m\u001b[0;34m.\u001b[0m\u001b[0minvoke\u001b[0m\u001b[0;34m(\u001b[0m\u001b[0;34m{\u001b[0m\u001b[0;34m'text'\u001b[0m\u001b[0;34m:\u001b[0m \u001b[0mdoc\u001b[0m\u001b[0;34m}\u001b[0m\u001b[0;34m)\u001b[0m\u001b[0;34m\u001b[0m\u001b[0;34m\u001b[0m\u001b[0m\n\u001b[0m\u001b[1;32m     14\u001b[0m             \u001b[0;32mfor\u001b[0m \u001b[0mqa\u001b[0m \u001b[0;32min\u001b[0m \u001b[0mout\u001b[0m\u001b[0;34m.\u001b[0m\u001b[0mqas\u001b[0m\u001b[0;34m:\u001b[0m\u001b[0;34m\u001b[0m\u001b[0;34m\u001b[0m\u001b[0m\n\u001b[1;32m     15\u001b[0m                 \u001b[0;32mtry\u001b[0m\u001b[0;34m:\u001b[0m\u001b[0;34m\u001b[0m\u001b[0;34m\u001b[0m\u001b[0m\n",
      "\u001b[0;32m~/opt/anaconda3/lib/python3.9/site-packages/langchain_core/runnables/base.py\u001b[0m in \u001b[0;36minvoke\u001b[0;34m(self, input, config, **kwargs)\u001b[0m\n\u001b[1;32m   3020\u001b[0m                 \u001b[0mcontext\u001b[0m\u001b[0;34m.\u001b[0m\u001b[0mrun\u001b[0m\u001b[0;34m(\u001b[0m\u001b[0m_set_config_context\u001b[0m\u001b[0;34m,\u001b[0m \u001b[0mconfig\u001b[0m\u001b[0;34m)\u001b[0m\u001b[0;34m\u001b[0m\u001b[0;34m\u001b[0m\u001b[0m\n\u001b[1;32m   3021\u001b[0m                 \u001b[0;32mif\u001b[0m \u001b[0mi\u001b[0m \u001b[0;34m==\u001b[0m \u001b[0;36m0\u001b[0m\u001b[0;34m:\u001b[0m\u001b[0;34m\u001b[0m\u001b[0;34m\u001b[0m\u001b[0m\n\u001b[0;32m-> 3022\u001b[0;31m                     \u001b[0minput\u001b[0m \u001b[0;34m=\u001b[0m \u001b[0mcontext\u001b[0m\u001b[0;34m.\u001b[0m\u001b[0mrun\u001b[0m\u001b[0;34m(\u001b[0m\u001b[0mstep\u001b[0m\u001b[0;34m.\u001b[0m\u001b[0minvoke\u001b[0m\u001b[0;34m,\u001b[0m \u001b[0minput\u001b[0m\u001b[0;34m,\u001b[0m \u001b[0mconfig\u001b[0m\u001b[0;34m,\u001b[0m \u001b[0;34m**\u001b[0m\u001b[0mkwargs\u001b[0m\u001b[0;34m)\u001b[0m\u001b[0;34m\u001b[0m\u001b[0;34m\u001b[0m\u001b[0m\n\u001b[0m\u001b[1;32m   3023\u001b[0m                 \u001b[0;32melse\u001b[0m\u001b[0;34m:\u001b[0m\u001b[0;34m\u001b[0m\u001b[0;34m\u001b[0m\u001b[0m\n\u001b[1;32m   3024\u001b[0m                     \u001b[0minput\u001b[0m \u001b[0;34m=\u001b[0m \u001b[0mcontext\u001b[0m\u001b[0;34m.\u001b[0m\u001b[0mrun\u001b[0m\u001b[0;34m(\u001b[0m\u001b[0mstep\u001b[0m\u001b[0;34m.\u001b[0m\u001b[0minvoke\u001b[0m\u001b[0;34m,\u001b[0m \u001b[0minput\u001b[0m\u001b[0;34m,\u001b[0m \u001b[0mconfig\u001b[0m\u001b[0;34m)\u001b[0m\u001b[0;34m\u001b[0m\u001b[0;34m\u001b[0m\u001b[0m\n",
      "\u001b[0;32m~/opt/anaconda3/lib/python3.9/site-packages/langchain_core/runnables/base.py\u001b[0m in \u001b[0;36minvoke\u001b[0;34m(self, input, config, **kwargs)\u001b[0m\n\u001b[1;32m   4711\u001b[0m         \"\"\"\n\u001b[1;32m   4712\u001b[0m         \u001b[0;32mif\u001b[0m \u001b[0mhasattr\u001b[0m\u001b[0;34m(\u001b[0m\u001b[0mself\u001b[0m\u001b[0;34m,\u001b[0m \u001b[0;34m\"func\"\u001b[0m\u001b[0;34m)\u001b[0m\u001b[0;34m:\u001b[0m\u001b[0;34m\u001b[0m\u001b[0;34m\u001b[0m\u001b[0m\n\u001b[0;32m-> 4713\u001b[0;31m             return self._call_with_config(\n\u001b[0m\u001b[1;32m   4714\u001b[0m                 \u001b[0mself\u001b[0m\u001b[0;34m.\u001b[0m\u001b[0m_invoke\u001b[0m\u001b[0;34m,\u001b[0m\u001b[0;34m\u001b[0m\u001b[0;34m\u001b[0m\u001b[0m\n\u001b[1;32m   4715\u001b[0m                 \u001b[0minput\u001b[0m\u001b[0;34m,\u001b[0m\u001b[0;34m\u001b[0m\u001b[0;34m\u001b[0m\u001b[0m\n",
      "\u001b[0;32m~/opt/anaconda3/lib/python3.9/site-packages/langchain_core/runnables/base.py\u001b[0m in \u001b[0;36m_call_with_config\u001b[0;34m(self, func, input, config, run_type, serialized, **kwargs)\u001b[0m\n\u001b[1;32m   1925\u001b[0m             output = cast(\n\u001b[1;32m   1926\u001b[0m                 \u001b[0mOutput\u001b[0m\u001b[0;34m,\u001b[0m\u001b[0;34m\u001b[0m\u001b[0;34m\u001b[0m\u001b[0m\n\u001b[0;32m-> 1927\u001b[0;31m                 context.run(\n\u001b[0m\u001b[1;32m   1928\u001b[0m                     \u001b[0mcall_func_with_variable_args\u001b[0m\u001b[0;34m,\u001b[0m  \u001b[0;31m# type: ignore[arg-type]\u001b[0m\u001b[0;34m\u001b[0m\u001b[0;34m\u001b[0m\u001b[0m\n\u001b[1;32m   1929\u001b[0m                     \u001b[0mfunc\u001b[0m\u001b[0;34m,\u001b[0m  \u001b[0;31m# type: ignore[arg-type]\u001b[0m\u001b[0;34m\u001b[0m\u001b[0;34m\u001b[0m\u001b[0m\n",
      "\u001b[0;32m~/opt/anaconda3/lib/python3.9/site-packages/langchain_core/runnables/config.py\u001b[0m in \u001b[0;36mcall_func_with_variable_args\u001b[0;34m(func, input, config, run_manager, **kwargs)\u001b[0m\n\u001b[1;32m    394\u001b[0m     \u001b[0;32mif\u001b[0m \u001b[0mrun_manager\u001b[0m \u001b[0;32mis\u001b[0m \u001b[0;32mnot\u001b[0m \u001b[0;32mNone\u001b[0m \u001b[0;32mand\u001b[0m \u001b[0maccepts_run_manager\u001b[0m\u001b[0;34m(\u001b[0m\u001b[0mfunc\u001b[0m\u001b[0;34m)\u001b[0m\u001b[0;34m:\u001b[0m\u001b[0;34m\u001b[0m\u001b[0;34m\u001b[0m\u001b[0m\n\u001b[1;32m    395\u001b[0m         \u001b[0mkwargs\u001b[0m\u001b[0;34m[\u001b[0m\u001b[0;34m\"run_manager\"\u001b[0m\u001b[0;34m]\u001b[0m \u001b[0;34m=\u001b[0m \u001b[0mrun_manager\u001b[0m\u001b[0;34m\u001b[0m\u001b[0;34m\u001b[0m\u001b[0m\n\u001b[0;32m--> 396\u001b[0;31m     \u001b[0;32mreturn\u001b[0m \u001b[0mfunc\u001b[0m\u001b[0;34m(\u001b[0m\u001b[0minput\u001b[0m\u001b[0;34m,\u001b[0m \u001b[0;34m**\u001b[0m\u001b[0mkwargs\u001b[0m\u001b[0;34m)\u001b[0m  \u001b[0;31m# type: ignore[call-arg]\u001b[0m\u001b[0;34m\u001b[0m\u001b[0;34m\u001b[0m\u001b[0m\n\u001b[0m\u001b[1;32m    397\u001b[0m \u001b[0;34m\u001b[0m\u001b[0m\n\u001b[1;32m    398\u001b[0m \u001b[0;34m\u001b[0m\u001b[0m\n",
      "\u001b[0;32m~/opt/anaconda3/lib/python3.9/site-packages/langchain_core/runnables/base.py\u001b[0m in \u001b[0;36m_invoke\u001b[0;34m(self, input, run_manager, config, **kwargs)\u001b[0m\n\u001b[1;32m   4565\u001b[0m                         \u001b[0moutput\u001b[0m \u001b[0;34m=\u001b[0m \u001b[0mchunk\u001b[0m\u001b[0;34m\u001b[0m\u001b[0;34m\u001b[0m\u001b[0m\n\u001b[1;32m   4566\u001b[0m         \u001b[0;32melse\u001b[0m\u001b[0;34m:\u001b[0m\u001b[0;34m\u001b[0m\u001b[0;34m\u001b[0m\u001b[0m\n\u001b[0;32m-> 4567\u001b[0;31m             output = call_func_with_variable_args(\n\u001b[0m\u001b[1;32m   4568\u001b[0m                 \u001b[0mself\u001b[0m\u001b[0;34m.\u001b[0m\u001b[0mfunc\u001b[0m\u001b[0;34m,\u001b[0m \u001b[0minput\u001b[0m\u001b[0;34m,\u001b[0m \u001b[0mconfig\u001b[0m\u001b[0;34m,\u001b[0m \u001b[0mrun_manager\u001b[0m\u001b[0;34m,\u001b[0m \u001b[0;34m**\u001b[0m\u001b[0mkwargs\u001b[0m\u001b[0;34m\u001b[0m\u001b[0;34m\u001b[0m\u001b[0m\n\u001b[1;32m   4569\u001b[0m             )\n",
      "\u001b[0;32m~/opt/anaconda3/lib/python3.9/site-packages/langchain_core/runnables/config.py\u001b[0m in \u001b[0;36mcall_func_with_variable_args\u001b[0;34m(func, input, config, run_manager, **kwargs)\u001b[0m\n\u001b[1;32m    394\u001b[0m     \u001b[0;32mif\u001b[0m \u001b[0mrun_manager\u001b[0m \u001b[0;32mis\u001b[0m \u001b[0;32mnot\u001b[0m \u001b[0;32mNone\u001b[0m \u001b[0;32mand\u001b[0m \u001b[0maccepts_run_manager\u001b[0m\u001b[0;34m(\u001b[0m\u001b[0mfunc\u001b[0m\u001b[0;34m)\u001b[0m\u001b[0;34m:\u001b[0m\u001b[0;34m\u001b[0m\u001b[0;34m\u001b[0m\u001b[0m\n\u001b[1;32m    395\u001b[0m         \u001b[0mkwargs\u001b[0m\u001b[0;34m[\u001b[0m\u001b[0;34m\"run_manager\"\u001b[0m\u001b[0;34m]\u001b[0m \u001b[0;34m=\u001b[0m \u001b[0mrun_manager\u001b[0m\u001b[0;34m\u001b[0m\u001b[0;34m\u001b[0m\u001b[0m\n\u001b[0;32m--> 396\u001b[0;31m     \u001b[0;32mreturn\u001b[0m \u001b[0mfunc\u001b[0m\u001b[0;34m(\u001b[0m\u001b[0minput\u001b[0m\u001b[0;34m,\u001b[0m \u001b[0;34m**\u001b[0m\u001b[0mkwargs\u001b[0m\u001b[0;34m)\u001b[0m  \u001b[0;31m# type: ignore[call-arg]\u001b[0m\u001b[0;34m\u001b[0m\u001b[0;34m\u001b[0m\u001b[0m\n\u001b[0m\u001b[1;32m    397\u001b[0m \u001b[0;34m\u001b[0m\u001b[0m\n\u001b[1;32m    398\u001b[0m \u001b[0;34m\u001b[0m\u001b[0m\n",
      "\u001b[0;32m/var/folders/pk/cx38wkw96h94vrlsy8lp1bqh0000gp/T/ipykernel_59556/3443235724.py\u001b[0m in \u001b[0;36mchatanywhere_llm\u001b[0;34m(input)\u001b[0m\n\u001b[1;32m      4\u001b[0m         \u001b[0;34m{\u001b[0m\u001b[0;34m\"role\"\u001b[0m\u001b[0;34m:\u001b[0m \u001b[0;34m\"user\"\u001b[0m\u001b[0;34m,\u001b[0m \u001b[0;34m\"content\"\u001b[0m\u001b[0;34m:\u001b[0m \u001b[0mQA_PAIRS_HUMAN_PROMPT\u001b[0m\u001b[0;34m.\u001b[0m\u001b[0mformat\u001b[0m\u001b[0;34m(\u001b[0m\u001b[0mtext\u001b[0m\u001b[0;34m=\u001b[0m\u001b[0minput\u001b[0m\u001b[0;34m[\u001b[0m\u001b[0;34m'text'\u001b[0m\u001b[0;34m]\u001b[0m\u001b[0;34m)\u001b[0m\u001b[0;34m}\u001b[0m\u001b[0;34m,\u001b[0m\u001b[0;34m\u001b[0m\u001b[0;34m\u001b[0m\u001b[0m\n\u001b[1;32m      5\u001b[0m     ]\n\u001b[0;32m----> 6\u001b[0;31m     response = client.chat.completions.create(\n\u001b[0m\u001b[1;32m      7\u001b[0m         \u001b[0mmodel\u001b[0m\u001b[0;34m=\u001b[0m\u001b[0;34m\"gpt-3.5-turbo\"\u001b[0m\u001b[0;34m,\u001b[0m\u001b[0;34m\u001b[0m\u001b[0;34m\u001b[0m\u001b[0m\n\u001b[1;32m      8\u001b[0m         \u001b[0mmessages\u001b[0m\u001b[0;34m=\u001b[0m\u001b[0mmessages\u001b[0m\u001b[0;34m,\u001b[0m\u001b[0;34m\u001b[0m\u001b[0;34m\u001b[0m\u001b[0m\n",
      "\u001b[0;32m~/opt/anaconda3/lib/python3.9/site-packages/openai/_utils/_utils.py\u001b[0m in \u001b[0;36mwrapper\u001b[0;34m(*args, **kwargs)\u001b[0m\n\u001b[1;32m    272\u001b[0m                         \u001b[0mmsg\u001b[0m \u001b[0;34m=\u001b[0m \u001b[0;34mf\"Missing required argument: {quote(missing[0])}\"\u001b[0m\u001b[0;34m\u001b[0m\u001b[0;34m\u001b[0m\u001b[0m\n\u001b[1;32m    273\u001b[0m                 \u001b[0;32mraise\u001b[0m \u001b[0mTypeError\u001b[0m\u001b[0;34m(\u001b[0m\u001b[0mmsg\u001b[0m\u001b[0;34m)\u001b[0m\u001b[0;34m\u001b[0m\u001b[0;34m\u001b[0m\u001b[0m\n\u001b[0;32m--> 274\u001b[0;31m             \u001b[0;32mreturn\u001b[0m \u001b[0mfunc\u001b[0m\u001b[0;34m(\u001b[0m\u001b[0;34m*\u001b[0m\u001b[0margs\u001b[0m\u001b[0;34m,\u001b[0m \u001b[0;34m**\u001b[0m\u001b[0mkwargs\u001b[0m\u001b[0;34m)\u001b[0m\u001b[0;34m\u001b[0m\u001b[0;34m\u001b[0m\u001b[0m\n\u001b[0m\u001b[1;32m    275\u001b[0m \u001b[0;34m\u001b[0m\u001b[0m\n\u001b[1;32m    276\u001b[0m         \u001b[0;32mreturn\u001b[0m \u001b[0mwrapper\u001b[0m  \u001b[0;31m# type: ignore\u001b[0m\u001b[0;34m\u001b[0m\u001b[0;34m\u001b[0m\u001b[0m\n",
      "\u001b[0;32m~/opt/anaconda3/lib/python3.9/site-packages/openai/resources/chat/completions.py\u001b[0m in \u001b[0;36mcreate\u001b[0;34m(self, messages, model, audio, frequency_penalty, function_call, functions, logit_bias, logprobs, max_completion_tokens, max_tokens, metadata, modalities, n, parallel_tool_calls, presence_penalty, response_format, seed, service_tier, stop, store, stream, stream_options, temperature, tool_choice, tools, top_logprobs, top_p, user, extra_headers, extra_query, extra_body, timeout)\u001b[0m\n\u001b[1;32m    813\u001b[0m     ) -> ChatCompletion | Stream[ChatCompletionChunk]:\n\u001b[1;32m    814\u001b[0m         \u001b[0mvalidate_response_format\u001b[0m\u001b[0;34m(\u001b[0m\u001b[0mresponse_format\u001b[0m\u001b[0;34m)\u001b[0m\u001b[0;34m\u001b[0m\u001b[0;34m\u001b[0m\u001b[0m\n\u001b[0;32m--> 815\u001b[0;31m         return self._post(\n\u001b[0m\u001b[1;32m    816\u001b[0m             \u001b[0;34m\"/chat/completions\"\u001b[0m\u001b[0;34m,\u001b[0m\u001b[0;34m\u001b[0m\u001b[0;34m\u001b[0m\u001b[0m\n\u001b[1;32m    817\u001b[0m             body=maybe_transform(\n",
      "\u001b[0;32m~/opt/anaconda3/lib/python3.9/site-packages/openai/_base_client.py\u001b[0m in \u001b[0;36mpost\u001b[0;34m(self, path, cast_to, body, options, files, stream, stream_cls)\u001b[0m\n\u001b[1;32m   1275\u001b[0m             \u001b[0mmethod\u001b[0m\u001b[0;34m=\u001b[0m\u001b[0;34m\"post\"\u001b[0m\u001b[0;34m,\u001b[0m \u001b[0murl\u001b[0m\u001b[0;34m=\u001b[0m\u001b[0mpath\u001b[0m\u001b[0;34m,\u001b[0m \u001b[0mjson_data\u001b[0m\u001b[0;34m=\u001b[0m\u001b[0mbody\u001b[0m\u001b[0;34m,\u001b[0m \u001b[0mfiles\u001b[0m\u001b[0;34m=\u001b[0m\u001b[0mto_httpx_files\u001b[0m\u001b[0;34m(\u001b[0m\u001b[0mfiles\u001b[0m\u001b[0;34m)\u001b[0m\u001b[0;34m,\u001b[0m \u001b[0;34m**\u001b[0m\u001b[0moptions\u001b[0m\u001b[0;34m\u001b[0m\u001b[0;34m\u001b[0m\u001b[0m\n\u001b[1;32m   1276\u001b[0m         )\n\u001b[0;32m-> 1277\u001b[0;31m         \u001b[0;32mreturn\u001b[0m \u001b[0mcast\u001b[0m\u001b[0;34m(\u001b[0m\u001b[0mResponseT\u001b[0m\u001b[0;34m,\u001b[0m \u001b[0mself\u001b[0m\u001b[0;34m.\u001b[0m\u001b[0mrequest\u001b[0m\u001b[0;34m(\u001b[0m\u001b[0mcast_to\u001b[0m\u001b[0;34m,\u001b[0m \u001b[0mopts\u001b[0m\u001b[0;34m,\u001b[0m \u001b[0mstream\u001b[0m\u001b[0;34m=\u001b[0m\u001b[0mstream\u001b[0m\u001b[0;34m,\u001b[0m \u001b[0mstream_cls\u001b[0m\u001b[0;34m=\u001b[0m\u001b[0mstream_cls\u001b[0m\u001b[0;34m)\u001b[0m\u001b[0;34m)\u001b[0m\u001b[0;34m\u001b[0m\u001b[0;34m\u001b[0m\u001b[0m\n\u001b[0m\u001b[1;32m   1278\u001b[0m \u001b[0;34m\u001b[0m\u001b[0m\n\u001b[1;32m   1279\u001b[0m     def patch(\n",
      "\u001b[0;32m~/opt/anaconda3/lib/python3.9/site-packages/openai/_base_client.py\u001b[0m in \u001b[0;36mrequest\u001b[0;34m(self, cast_to, options, remaining_retries, stream, stream_cls)\u001b[0m\n\u001b[1;32m    952\u001b[0m             \u001b[0mretries_taken\u001b[0m \u001b[0;34m=\u001b[0m \u001b[0;36m0\u001b[0m\u001b[0;34m\u001b[0m\u001b[0;34m\u001b[0m\u001b[0m\n\u001b[1;32m    953\u001b[0m \u001b[0;34m\u001b[0m\u001b[0m\n\u001b[0;32m--> 954\u001b[0;31m         return self._request(\n\u001b[0m\u001b[1;32m    955\u001b[0m             \u001b[0mcast_to\u001b[0m\u001b[0;34m=\u001b[0m\u001b[0mcast_to\u001b[0m\u001b[0;34m,\u001b[0m\u001b[0;34m\u001b[0m\u001b[0;34m\u001b[0m\u001b[0m\n\u001b[1;32m    956\u001b[0m             \u001b[0moptions\u001b[0m\u001b[0;34m=\u001b[0m\u001b[0moptions\u001b[0m\u001b[0;34m,\u001b[0m\u001b[0;34m\u001b[0m\u001b[0;34m\u001b[0m\u001b[0m\n",
      "\u001b[0;32m~/opt/anaconda3/lib/python3.9/site-packages/openai/_base_client.py\u001b[0m in \u001b[0;36m_request\u001b[0;34m(self, cast_to, options, retries_taken, stream, stream_cls)\u001b[0m\n\u001b[1;32m   1041\u001b[0m             \u001b[0;32mif\u001b[0m \u001b[0mremaining_retries\u001b[0m \u001b[0;34m>\u001b[0m \u001b[0;36m0\u001b[0m \u001b[0;32mand\u001b[0m \u001b[0mself\u001b[0m\u001b[0;34m.\u001b[0m\u001b[0m_should_retry\u001b[0m\u001b[0;34m(\u001b[0m\u001b[0merr\u001b[0m\u001b[0;34m.\u001b[0m\u001b[0mresponse\u001b[0m\u001b[0;34m)\u001b[0m\u001b[0;34m:\u001b[0m\u001b[0;34m\u001b[0m\u001b[0;34m\u001b[0m\u001b[0m\n\u001b[1;32m   1042\u001b[0m                 \u001b[0merr\u001b[0m\u001b[0;34m.\u001b[0m\u001b[0mresponse\u001b[0m\u001b[0;34m.\u001b[0m\u001b[0mclose\u001b[0m\u001b[0;34m(\u001b[0m\u001b[0;34m)\u001b[0m\u001b[0;34m\u001b[0m\u001b[0;34m\u001b[0m\u001b[0m\n\u001b[0;32m-> 1043\u001b[0;31m                 return self._retry_request(\n\u001b[0m\u001b[1;32m   1044\u001b[0m                     \u001b[0minput_options\u001b[0m\u001b[0;34m,\u001b[0m\u001b[0;34m\u001b[0m\u001b[0;34m\u001b[0m\u001b[0m\n\u001b[1;32m   1045\u001b[0m                     \u001b[0mcast_to\u001b[0m\u001b[0;34m,\u001b[0m\u001b[0;34m\u001b[0m\u001b[0;34m\u001b[0m\u001b[0m\n",
      "\u001b[0;32m~/opt/anaconda3/lib/python3.9/site-packages/openai/_base_client.py\u001b[0m in \u001b[0;36m_retry_request\u001b[0;34m(self, options, cast_to, retries_taken, response_headers, stream, stream_cls)\u001b[0m\n\u001b[1;32m   1090\u001b[0m         \u001b[0mtime\u001b[0m\u001b[0;34m.\u001b[0m\u001b[0msleep\u001b[0m\u001b[0;34m(\u001b[0m\u001b[0mtimeout\u001b[0m\u001b[0;34m)\u001b[0m\u001b[0;34m\u001b[0m\u001b[0;34m\u001b[0m\u001b[0m\n\u001b[1;32m   1091\u001b[0m \u001b[0;34m\u001b[0m\u001b[0m\n\u001b[0;32m-> 1092\u001b[0;31m         return self._request(\n\u001b[0m\u001b[1;32m   1093\u001b[0m             \u001b[0moptions\u001b[0m\u001b[0;34m=\u001b[0m\u001b[0moptions\u001b[0m\u001b[0;34m,\u001b[0m\u001b[0;34m\u001b[0m\u001b[0;34m\u001b[0m\u001b[0m\n\u001b[1;32m   1094\u001b[0m             \u001b[0mcast_to\u001b[0m\u001b[0;34m=\u001b[0m\u001b[0mcast_to\u001b[0m\u001b[0;34m,\u001b[0m\u001b[0;34m\u001b[0m\u001b[0;34m\u001b[0m\u001b[0m\n",
      "\u001b[0;32m~/opt/anaconda3/lib/python3.9/site-packages/openai/_base_client.py\u001b[0m in \u001b[0;36m_request\u001b[0;34m(self, cast_to, options, retries_taken, stream, stream_cls)\u001b[0m\n\u001b[1;32m   1041\u001b[0m             \u001b[0;32mif\u001b[0m \u001b[0mremaining_retries\u001b[0m \u001b[0;34m>\u001b[0m \u001b[0;36m0\u001b[0m \u001b[0;32mand\u001b[0m \u001b[0mself\u001b[0m\u001b[0;34m.\u001b[0m\u001b[0m_should_retry\u001b[0m\u001b[0;34m(\u001b[0m\u001b[0merr\u001b[0m\u001b[0;34m.\u001b[0m\u001b[0mresponse\u001b[0m\u001b[0;34m)\u001b[0m\u001b[0;34m:\u001b[0m\u001b[0;34m\u001b[0m\u001b[0;34m\u001b[0m\u001b[0m\n\u001b[1;32m   1042\u001b[0m                 \u001b[0merr\u001b[0m\u001b[0;34m.\u001b[0m\u001b[0mresponse\u001b[0m\u001b[0;34m.\u001b[0m\u001b[0mclose\u001b[0m\u001b[0;34m(\u001b[0m\u001b[0;34m)\u001b[0m\u001b[0;34m\u001b[0m\u001b[0;34m\u001b[0m\u001b[0m\n\u001b[0;32m-> 1043\u001b[0;31m                 return self._retry_request(\n\u001b[0m\u001b[1;32m   1044\u001b[0m                     \u001b[0minput_options\u001b[0m\u001b[0;34m,\u001b[0m\u001b[0;34m\u001b[0m\u001b[0;34m\u001b[0m\u001b[0m\n\u001b[1;32m   1045\u001b[0m                     \u001b[0mcast_to\u001b[0m\u001b[0;34m,\u001b[0m\u001b[0;34m\u001b[0m\u001b[0;34m\u001b[0m\u001b[0m\n",
      "\u001b[0;32m~/opt/anaconda3/lib/python3.9/site-packages/openai/_base_client.py\u001b[0m in \u001b[0;36m_retry_request\u001b[0;34m(self, options, cast_to, retries_taken, response_headers, stream, stream_cls)\u001b[0m\n\u001b[1;32m   1088\u001b[0m         \u001b[0;31m# In a synchronous context we are blocking the entire thread. Up to the library user to run the client in a\u001b[0m\u001b[0;34m\u001b[0m\u001b[0;34m\u001b[0m\u001b[0m\n\u001b[1;32m   1089\u001b[0m         \u001b[0;31m# different thread if necessary.\u001b[0m\u001b[0;34m\u001b[0m\u001b[0;34m\u001b[0m\u001b[0m\n\u001b[0;32m-> 1090\u001b[0;31m         \u001b[0mtime\u001b[0m\u001b[0;34m.\u001b[0m\u001b[0msleep\u001b[0m\u001b[0;34m(\u001b[0m\u001b[0mtimeout\u001b[0m\u001b[0;34m)\u001b[0m\u001b[0;34m\u001b[0m\u001b[0;34m\u001b[0m\u001b[0m\n\u001b[0m\u001b[1;32m   1091\u001b[0m \u001b[0;34m\u001b[0m\u001b[0m\n\u001b[1;32m   1092\u001b[0m         return self._request(\n",
      "\u001b[0;31mKeyboardInterrupt\u001b[0m: "
     ]
    }
   ],
   "source": [
    "json_list = []       \n",
    "non_json_list = []   \n",
    "\n",
    "for i in range(75,len(df)):\n",
    "    content = df.iloc[i]['content']\n",
    "    documents = split_document(content)\n",
    "\n",
    "    bar = tqdm(total=len(documents), desc=f\"Processing row {i}\")\n",
    "\n",
    "    for idx, doc in enumerate(documents):\n",
    "        bar.update(1)\n",
    "        try:\n",
    "            out = chain.invoke({'text': doc})\n",
    "            for qa in out.qas:\n",
    "                try:\n",
    "                    qa_dict = qa.dict() if hasattr(qa, 'dict') else qa\n",
    "                    json.dumps(qa_dict, ensure_ascii=False)\n",
    "                    json_list.append(qa_dict)\n",
    "                    print(qa.dict())\n",
    "                except Exception as e:\n",
    "                    non_json_list.append(str(qa))\n",
    "        except Exception as e:\n",
    "            print(f\"Error invoking chain at row {i}, doc {idx}: {e}\")\n",
    "            non_json_list.append(doc)\n",
    "\n",
    "print(json_list)\n",
    "# 追加合法 JSON 到文件\n",
    "with open('dataset.json', 'a', encoding='utf-8') as f:\n",
    "    json.dump(json_list, f, ensure_ascii=False, indent=2)\n",
    "    f.write('\\n')  # 可选：写入换行，便于分割多个 JSON 块\n",
    "\n",
    "# 追加非法 JSON 到另一个文件\n",
    "with open('non_json_outputs.txt', 'a', encoding='utf-8') as f:\n",
    "    for line in non_json_list:\n",
    "        f.write(line + '\\n')"
   ]
  },
  {
   "cell_type": "code",
   "execution_count": null,
   "id": "44b0ee54",
   "metadata": {},
   "outputs": [],
   "source": []
  },
  {
   "cell_type": "code",
   "execution_count": null,
   "id": "ffc4987a",
   "metadata": {},
   "outputs": [],
   "source": []
  }
 ],
 "metadata": {
  "kernelspec": {
   "display_name": "base",
   "language": "python",
   "name": "python3"
  },
  "language_info": {
   "codemirror_mode": {
    "name": "ipython",
    "version": 3
   },
   "file_extension": ".py",
   "mimetype": "text/x-python",
   "name": "python",
   "nbconvert_exporter": "python",
   "pygments_lexer": "ipython3",
   "version": "3.9.13"
  }
 },
 "nbformat": 4,
 "nbformat_minor": 5
}
